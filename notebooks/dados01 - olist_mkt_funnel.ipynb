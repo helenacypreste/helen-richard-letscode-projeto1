{
 "cells": [
  {
   "cell_type": "markdown",
   "id": "69bcc70e",
   "metadata": {},
   "source": [
    "Processamento de dados:\n",
    "- criar tabela com todos os MQLs, com todas as informações disponíveis para cada um.\n",
    "- criar uma coluna com quais MQLs fecharam acordo e quais foram perdidos."
   ]
  },
  {
   "cell_type": "code",
   "execution_count": 29,
   "id": "3c25e49e",
   "metadata": {},
   "outputs": [
    {
     "name": "stdout",
     "output_type": "stream",
     "text": [
      "(8000, 4)\n",
      "(842, 15)\n"
     ]
    }
   ],
   "source": [
    "import pandas as pd\n",
    "import numpy as np\n",
    "\n",
    "marketing_path = r'olist_marketing_qualified_leads_dataset.csv'\n",
    "df_marketing = pd.read_csv(marketing_path)\n",
    "print(df_marketing.shape)\n",
    "\n",
    "closed_path = r'olist_closed_deals_dataset.csv'\n",
    "df_closed= pd.read_csv(closed_path)\n",
    "df_closed['contract'] = \"accepted\"\n",
    "print(df_closed.shape)"
   ]
  },
  {
   "cell_type": "code",
   "execution_count": 30,
   "id": "9c166af4",
   "metadata": {},
   "outputs": [
    {
     "name": "stdout",
     "output_type": "stream",
     "text": [
      "0           lost\n",
      "1           lost\n",
      "2           lost\n",
      "3           lost\n",
      "4       accepted\n",
      "          ...   \n",
      "7995        lost\n",
      "7996        lost\n",
      "7997        lost\n",
      "7998        lost\n",
      "7999    accepted\n",
      "Name: contract, Length: 8000, dtype: object\n"
     ]
    }
   ],
   "source": [
    "#join\n",
    "df_total_mql = df_marketing.merge(df_closed, how='left', on='mql_id')\n",
    "\n",
    "# replace NaN with 0\n",
    "df_total_mql = df_total_mql.replace(np.nan, 0)\n",
    "\n",
    "# fillna with \n",
    "df_total_mql['seller_id'].fillna(0, inplace=True)\n",
    "df_total_mql.loc[(df_total_mql['seller_id'] == 0), 'contract'] = \"lost\"\n",
    "\n",
    "print(df_total_mql.contract)"
   ]
  },
  {
   "cell_type": "code",
   "execution_count": 31,
   "id": "196ccf08",
   "metadata": {},
   "outputs": [
    {
     "name": "stdout",
     "output_type": "stream",
     "text": [
      "Qual foi a taxa de conversão total?  10.525 %\n"
     ]
    }
   ],
   "source": [
    "#Qual foi a taxa de conversão total?\n",
    "### Taxa de conversão total - somar todas a receita mensal e dividir pela quantidade total de mql\n",
    "contract_series = df_total_mql['contract'].value_counts()\n",
    "count_all = len(df_total_mql)\n",
    "count_true = contract_series['accepted']\n",
    "\n",
    "tx_conversao_total = (count_true / count_all) * 100\n",
    "\n",
    "print(\"Qual foi a taxa de conversão total? \", tx_conversao_total, \"%\")\n"
   ]
  },
  {
   "cell_type": "code",
   "execution_count": 32,
   "metadata": {},
   "outputs": [
    {
     "name": "stdout",
     "output_type": "stream",
     "text": [
      "Taxa de conversão de cada origem: \n",
      "               origin  accepted  lost  taxa_conv\n",
      "0                   0        14    46   0.304348\n",
      "1      direct_traffic        56   443   0.126411\n",
      "2             display         6   112   0.053571\n",
      "3               email        15   478   0.031381\n",
      "4      organic_search       271  2025   0.133827\n",
      "5               other         4   146   0.027397\n",
      "6   other_publicities         3    62   0.048387\n",
      "7         paid_search       195  1391   0.140187\n",
      "8            referral        24   260   0.092308\n",
      "9              social        75  1275   0.058824\n",
      "10            unknown       179   920   0.194565\n"
     ]
    }
   ],
   "source": [
    "#Qual foi a taxa de conversão de cada origem?\n",
    "df_origem_conv = df_total_mql.groupby(['origin', 'contract']).agg(count=('origin', 'count')).reset_index()\n",
    "df_origem_accepted = df_origem_conv[df_origem_conv['contract'] == 'accepted'].rename(columns={'count': 'accepted'})\n",
    "df_origem_lost = df_origem_conv[df_origem_conv['contract'] == 'lost'].rename(columns={'count': 'lost'})\n",
    "df_origem_accepted.drop('contract', axis=1, inplace=True)\n",
    "df_origem_lost.drop('contract', axis=1, inplace=True)\n",
    "\n",
    "df_origem_conv_result = df_origem_accepted.merge(df_origem_lost, how='outer', on='origin')\n",
    "df_origem_conv_result['taxa_conv'] = df_origem_conv_result['accepted'] / df_origem_conv_result['lost']\n",
    "\n",
    "print(f'Taxa de conversão de cada origem: \\n{df_origem_conv_result}') "
   ]
  },
  {
   "cell_type": "code",
   "execution_count": 33,
   "id": "36d853e5",
   "metadata": {},
   "outputs": [
    {
     "name": "stdout",
     "output_type": "stream",
     "text": [
      "Taxa de conversão de cada pagina: \n",
      "                      landing_page_id  accepted  lost  taxa_conv\n",
      "0    007f9098284a86ee80ddeb25d53e0af8       4.0  62.0   0.064516\n",
      "1    0218f6be0b76aca72ab4d00ee9e8cf10       6.0  42.0   0.142857\n",
      "2    04a75b75d5f4f3a16b0178fbe382da00       1.0   0.0   0.000000\n",
      "3    0625ca637bf063abf254a66fe91fa84b       1.0   2.0   0.500000\n",
      "4    090ffa1062e6dde353c36524563acefc       1.0   2.0   0.500000\n",
      "..                                ...       ...   ...        ...\n",
      "490  fc83c311415c9f67b6c7c87cf488b9c2       0.0   1.0   0.000000\n",
      "491  fd660f5d9a62d444c76191307b3a0514       0.0  11.0   0.000000\n",
      "492  fd7c4cdfbfb7964b441618d54f88c38b       0.0   1.0   0.000000\n",
      "493  fd7d977e75d1ac5cfe6b93ffabb150b1       0.0   1.0   0.000000\n",
      "494  ff3416719616ad4921acb8c74e21d6f0       0.0  11.0   0.000000\n",
      "\n",
      "[495 rows x 4 columns]\n"
     ]
    }
   ],
   "source": [
    "#Qual foi a taxa de conversão de cada página inicial?\n",
    "df_pagina_conv = df_total_mql.groupby(['landing_page_id', 'contract']).agg(count=('landing_page_id', 'count')).reset_index()\n",
    "df_pagina_accepted = df_pagina_conv[df_pagina_conv['contract'] == 'accepted'].rename(columns={'count': 'accepted'})\n",
    "df_pagina_lost = df_pagina_conv[df_pagina_conv['contract'] == 'lost'].rename(columns={'count': 'lost'})\n",
    "df_pagina_accepted.drop('contract', axis=1, inplace=True)\n",
    "df_pagina_lost.drop('contract', axis=1, inplace=True)\n",
    "\n",
    "df_pagina_conv_result = df_pagina_accepted.merge(df_pagina_lost, how='outer', on='landing_page_id')\n",
    "\n",
    "df_pagina_conv_result['taxa_conv'] = df_pagina_conv_result['accepted'] / df_pagina_conv_result['lost']\n",
    "df_pagina_conv_result.fillna(0, inplace=True)\n",
    "\n",
    "print(f'Taxa de conversão de cada pagina: \\n{df_pagina_conv_result}') "
   ]
  },
  {
   "cell_type": "code",
   "execution_count": 34,
   "id": "92fa0b58",
   "metadata": {},
   "outputs": [
    {
     "name": "stdout",
     "output_type": "stream",
     "text": [
      "A receita média mensal declarada de cada Lead é: \n",
      "                                sr_id        receita\n",
      "0                                  0       0.000000\n",
      "1   060c0a26f19f4d66b42e0d8796688490       0.000000\n",
      "2   068066e24f0c643eb1d089c7dd20cd73    7037.037037\n",
      "3   0a0fb2b07d841f84fb6714e35c723075    6000.000000\n",
      "4   2695de1affa7750089c0455f8ce27021    1694.915254\n",
      "5   34d40cdaf94010a1d05b0d6212f9e909   19000.000000\n",
      "6   495d4e95a8cf8bbf8b432b612a2aa328    6666.666667\n",
      "7   4b339f9567d060bcea4f5136b9f5949e   27777.777778\n",
      "8   4ef15afb4b2723d8f3d81e51ec7afefe  377293.233083\n",
      "9   56bf83c4bb35763a51c2baab501b4c67   12500.000000\n",
      "10  6565aa9ce3178a5caf6171827af3a9ba       0.000000\n",
      "11  6aa3b86a83d784b05f0e37e26b20860d    8000.000000\n",
      "12  85fc447d336637ba1df43e793199fbc8    1562.500000\n",
      "13  9749123c950bf8363ace42cb1c2d0815  103571.428571\n",
      "14  9ae085775a198122c5586fa830ff7f2b       0.000000\n",
      "15  9d12ef1a7eca3ec58c545c678af7869c   43333.333333\n",
      "16  9e4d1098a3b0f5da39b0bc48f9876645       0.000000\n",
      "17  a8387c01a09e99ce014107505b92388c   24038.692308\n",
      "18  b90f87164b5f8c2cfa5c8572834dbe3f       0.000000\n",
      "19  c638112b43f1d1b86dcabb0da720c901       0.000000\n",
      "20  d3d1e91a157ea7f90548eef82f1955e3    4939.024390\n",
      "21  de63de0d10a6012430098db33c679b0b  151415.094340\n",
      "22  fbf4aef3f6915dc0c3c97d6812522f6a       0.000000\n"
     ]
    }
   ],
   "source": [
    "# Para cada SR, qual a receita média declarada dos leads?\n",
    "df_sr_receita = df_total_mql.groupby(['sr_id']).agg(receita=('declared_monthly_revenue', 'mean')).reset_index()\n",
    "print('A receita média mensal declarada de cada Lead é: \\n', df_sr_receita)"
   ]
  },
  {
   "cell_type": "code",
   "execution_count": 35,
   "id": "0161fab1",
   "metadata": {},
   "outputs": [
    {
     "name": "stdout",
     "output_type": "stream",
     "text": [
      "Para cada SR, a pessoa converteu o seguinte número de business_type: \n",
      "                                sr_id business_type  count\n",
      "0   060c0a26f19f4d66b42e0d8796688490  manufacturer      9\n",
      "1   060c0a26f19f4d66b42e0d8796688490      reseller     23\n",
      "2   068066e24f0c643eb1d089c7dd20cd73  manufacturer      6\n",
      "3   068066e24f0c643eb1d089c7dd20cd73      reseller     21\n",
      "4   0a0fb2b07d841f84fb6714e35c723075         other      1\n",
      "5   2695de1affa7750089c0455f8ce27021  manufacturer     16\n",
      "6   2695de1affa7750089c0455f8ce27021      reseller     42\n",
      "7   34d40cdaf94010a1d05b0d6212f9e909  manufacturer      1\n",
      "8   34d40cdaf94010a1d05b0d6212f9e909         other      1\n",
      "9   34d40cdaf94010a1d05b0d6212f9e909      reseller      8\n",
      "10  495d4e95a8cf8bbf8b432b612a2aa328  manufacturer     14\n",
      "11  495d4e95a8cf8bbf8b432b612a2aa328      reseller     47\n",
      "12  4b339f9567d060bcea4f5136b9f5949e  manufacturer      2\n",
      "13  4b339f9567d060bcea4f5136b9f5949e      reseller      6\n",
      "14  4ef15afb4b2723d8f3d81e51ec7afefe  manufacturer     43\n",
      "15  4ef15afb4b2723d8f3d81e51ec7afefe      reseller     90\n",
      "16  56bf83c4bb35763a51c2baab501b4c67  manufacturer      8\n",
      "17  56bf83c4bb35763a51c2baab501b4c67      reseller     16\n",
      "18  6565aa9ce3178a5caf6171827af3a9ba  manufacturer     19\n",
      "19  6565aa9ce3178a5caf6171827af3a9ba      reseller     54\n",
      "20  6aa3b86a83d784b05f0e37e26b20860d      reseller      1\n",
      "21  85fc447d336637ba1df43e793199fbc8  manufacturer     25\n",
      "22  85fc447d336637ba1df43e793199fbc8      reseller     39\n",
      "23  9749123c950bf8363ace42cb1c2d0815  manufacturer      2\n",
      "24  9749123c950bf8363ace42cb1c2d0815      reseller      5\n",
      "25  9ae085775a198122c5586fa830ff7f2b  manufacturer     15\n",
      "26  9ae085775a198122c5586fa830ff7f2b      reseller     36\n",
      "27  9d12ef1a7eca3ec58c545c678af7869c  manufacturer      2\n",
      "28  9d12ef1a7eca3ec58c545c678af7869c      reseller      4\n",
      "29  9e4d1098a3b0f5da39b0bc48f9876645  manufacturer     10\n",
      "30  9e4d1098a3b0f5da39b0bc48f9876645      reseller     14\n",
      "31  a8387c01a09e99ce014107505b92388c  manufacturer      4\n",
      "32  a8387c01a09e99ce014107505b92388c         other      1\n",
      "33  a8387c01a09e99ce014107505b92388c      reseller     21\n",
      "34  b90f87164b5f8c2cfa5c8572834dbe3f      reseller      1\n",
      "35  c638112b43f1d1b86dcabb0da720c901  manufacturer     12\n",
      "36  c638112b43f1d1b86dcabb0da720c901      reseller     22\n",
      "37  d3d1e91a157ea7f90548eef82f1955e3  manufacturer     19\n",
      "38  d3d1e91a157ea7f90548eef82f1955e3      reseller     61\n",
      "39  de63de0d10a6012430098db33c679b0b  manufacturer     12\n",
      "40  de63de0d10a6012430098db33c679b0b      reseller     40\n",
      "41  fbf4aef3f6915dc0c3c97d6812522f6a  manufacturer     23\n",
      "42  fbf4aef3f6915dc0c3c97d6812522f6a      reseller     36\n"
     ]
    }
   ],
   "source": [
    "# Para cada SR, quantos de cada business_type a pessoa converteu?\n",
    "sr_business_conv = df_total_mql.query('sr_id != 0 and business_type != 0')\n",
    "sr_business_conv = sr_business_conv.groupby(['sr_id', 'business_type', 'contract']).agg(count=('business_type', 'count')).reset_index()\n",
    "sr_business_conv.drop('contract', axis=1, inplace=True)\n",
    "print(f'Para cada SR, a pessoa converteu o seguinte número de business_type: \\n {sr_business_conv}')"
   ]
  },
  {
   "cell_type": "code",
   "execution_count": 36,
   "id": "a17c11e7",
   "metadata": {},
   "outputs": [
    {
     "name": "stdout",
     "output_type": "stream",
     "text": [
      "Para cada SR, a pessoa converteu o seguinte número de lead_behaviour_profile: \n",
      "                                sr_id lead_behaviour_profile  count\n",
      "0   060c0a26f19f4d66b42e0d8796688490                    cat     15\n",
      "1   060c0a26f19f4d66b42e0d8796688490                  eagle      2\n",
      "2   060c0a26f19f4d66b42e0d8796688490                  shark      1\n",
      "3   060c0a26f19f4d66b42e0d8796688490                   wolf      6\n",
      "4   068066e24f0c643eb1d089c7dd20cd73                    cat     11\n",
      "..                               ...                    ...    ...\n",
      "75  de63de0d10a6012430098db33c679b0b                   wolf      5\n",
      "76  fbf4aef3f6915dc0c3c97d6812522f6a                    cat     30\n",
      "77  fbf4aef3f6915dc0c3c97d6812522f6a                  eagle      9\n",
      "78  fbf4aef3f6915dc0c3c97d6812522f6a                  shark      2\n",
      "79  fbf4aef3f6915dc0c3c97d6812522f6a                   wolf      2\n",
      "\n",
      "[80 rows x 3 columns]\n"
     ]
    }
   ],
   "source": [
    "# Para cada SR, quantos de cada lead_behaviour_profile a pessoa converteu?\n",
    "sr_lead_behaviour_conv = df_total_mql.query('sr_id != 0 and lead_behaviour_profile != 0')\n",
    "sr_lead_behaviour_conv = sr_lead_behaviour_conv.groupby(['sr_id', 'lead_behaviour_profile', 'contract']).agg(count=('business_type', 'count')).reset_index()\n",
    "sr_lead_behaviour_conv.drop('contract', axis=1, inplace=True)\n",
    "print(f'Para cada SR, a pessoa converteu o seguinte número de lead_behaviour_profile: \\n {sr_lead_behaviour_conv}')"
   ]
  },
  {
   "cell_type": "code",
   "execution_count": 37,
   "id": "0b85d608",
   "metadata": {},
   "outputs": [
    {
     "name": "stdout",
     "output_type": "stream",
     "text": [
      "Para cada SR, a pessoa converteu o seguinte número de lead_type: \n",
      "                                 sr_id        lead_type  count\n",
      "0    060c0a26f19f4d66b42e0d8796688490         industry      8\n",
      "1    060c0a26f19f4d66b42e0d8796688490          offline      1\n",
      "2    060c0a26f19f4d66b42e0d8796688490  online_beginner      3\n",
      "3    060c0a26f19f4d66b42e0d8796688490       online_big      2\n",
      "4    060c0a26f19f4d66b42e0d8796688490    online_medium     15\n",
      "..                                ...              ...    ...\n",
      "113  fbf4aef3f6915dc0c3c97d6812522f6a  online_beginner      1\n",
      "114  fbf4aef3f6915dc0c3c97d6812522f6a       online_big      8\n",
      "115  fbf4aef3f6915dc0c3c97d6812522f6a    online_medium     30\n",
      "116  fbf4aef3f6915dc0c3c97d6812522f6a     online_small      6\n",
      "117  fbf4aef3f6915dc0c3c97d6812522f6a       online_top      2\n",
      "\n",
      "[118 rows x 3 columns]\n"
     ]
    }
   ],
   "source": [
    "# Para cada SR, quantos de cada lead_type a pessoa converteu?\n",
    "sr_lead_type_conv = df_total_mql.query('sr_id != 0 and lead_type != 0')\n",
    "sr_lead_type_conv = sr_lead_type_conv.groupby(['sr_id', 'lead_type', 'contract']).agg(count=('business_type', 'count')).reset_index()\n",
    "sr_lead_type_conv.drop('contract', axis=1, inplace=True)\n",
    "print(f'Para cada SR, a pessoa converteu o seguinte número de lead_type: \\n {sr_lead_type_conv}')"
   ]
  },
  {
   "cell_type": "markdown",
   "id": "1a9716a1",
   "metadata": {},
   "source": [
    "Perguntas a serem respondidas:\n",
    "- Qual foi a taxa de conversão total?\n",
    "- Qual foi a taxa de conversão de cada origem?\n",
    "- Qual foi a taxa de conversão de cada página inicial?\n",
    "- Para cada SR, qual a receita média declarada dos leads?\n",
    "- Para cada SR, quantos de cada business_type a pessoa converteu?\n",
    "- Para cada SR, quantos de cada lead_behaviour_profile a pessoa converteu?\n",
    "- Para cada SR, quantos de cada lead_type a pessoa converteu?"
   ]
  },
  {
   "cell_type": "code",
   "execution_count": 39,
   "id": "ae9a8a1b",
   "metadata": {},
   "outputs": [
    {
     "name": "stdout",
     "output_type": "stream",
     "text": [
      "Qual foi a taxa de conversão total?  10.525 %\n",
      "\n",
      "Taxa de conversão de cada origem: \n",
      "               origin  accepted  lost  taxa_conv\n",
      "0                   0        14    46   0.304348\n",
      "1      direct_traffic        56   443   0.126411\n",
      "2             display         6   112   0.053571\n",
      "3               email        15   478   0.031381\n",
      "4      organic_search       271  2025   0.133827\n",
      "5               other         4   146   0.027397\n",
      "6   other_publicities         3    62   0.048387\n",
      "7         paid_search       195  1391   0.140187\n",
      "8            referral        24   260   0.092308\n",
      "9              social        75  1275   0.058824\n",
      "10            unknown       179   920   0.194565\n",
      "\n",
      "Taxa de conversão de cada pagina: \n",
      "                      landing_page_id  accepted  lost  taxa_conv\n",
      "0    007f9098284a86ee80ddeb25d53e0af8       4.0  62.0   0.064516\n",
      "1    0218f6be0b76aca72ab4d00ee9e8cf10       6.0  42.0   0.142857\n",
      "2    04a75b75d5f4f3a16b0178fbe382da00       1.0   0.0   0.000000\n",
      "3    0625ca637bf063abf254a66fe91fa84b       1.0   2.0   0.500000\n",
      "4    090ffa1062e6dde353c36524563acefc       1.0   2.0   0.500000\n",
      "..                                ...       ...   ...        ...\n",
      "490  fc83c311415c9f67b6c7c87cf488b9c2       0.0   1.0   0.000000\n",
      "491  fd660f5d9a62d444c76191307b3a0514       0.0  11.0   0.000000\n",
      "492  fd7c4cdfbfb7964b441618d54f88c38b       0.0   1.0   0.000000\n",
      "493  fd7d977e75d1ac5cfe6b93ffabb150b1       0.0   1.0   0.000000\n",
      "494  ff3416719616ad4921acb8c74e21d6f0       0.0  11.0   0.000000\n",
      "\n",
      "[495 rows x 4 columns]\n",
      "\n",
      "A receita média mensal declarada de cada Lead é: \n",
      "                                sr_id        receita\n",
      "0                                  0       0.000000\n",
      "1   060c0a26f19f4d66b42e0d8796688490       0.000000\n",
      "2   068066e24f0c643eb1d089c7dd20cd73    7037.037037\n",
      "3   0a0fb2b07d841f84fb6714e35c723075    6000.000000\n",
      "4   2695de1affa7750089c0455f8ce27021    1694.915254\n",
      "5   34d40cdaf94010a1d05b0d6212f9e909   19000.000000\n",
      "6   495d4e95a8cf8bbf8b432b612a2aa328    6666.666667\n",
      "7   4b339f9567d060bcea4f5136b9f5949e   27777.777778\n",
      "8   4ef15afb4b2723d8f3d81e51ec7afefe  377293.233083\n",
      "9   56bf83c4bb35763a51c2baab501b4c67   12500.000000\n",
      "10  6565aa9ce3178a5caf6171827af3a9ba       0.000000\n",
      "11  6aa3b86a83d784b05f0e37e26b20860d    8000.000000\n",
      "12  85fc447d336637ba1df43e793199fbc8    1562.500000\n",
      "13  9749123c950bf8363ace42cb1c2d0815  103571.428571\n",
      "14  9ae085775a198122c5586fa830ff7f2b       0.000000\n",
      "15  9d12ef1a7eca3ec58c545c678af7869c   43333.333333\n",
      "16  9e4d1098a3b0f5da39b0bc48f9876645       0.000000\n",
      "17  a8387c01a09e99ce014107505b92388c   24038.692308\n",
      "18  b90f87164b5f8c2cfa5c8572834dbe3f       0.000000\n",
      "19  c638112b43f1d1b86dcabb0da720c901       0.000000\n",
      "20  d3d1e91a157ea7f90548eef82f1955e3    4939.024390\n",
      "21  de63de0d10a6012430098db33c679b0b  151415.094340\n",
      "22  fbf4aef3f6915dc0c3c97d6812522f6a       0.000000\n",
      "\n",
      "Para cada SR, a pessoa converteu o seguinte número de business_type: \n",
      "                                sr_id business_type  count\n",
      "0   060c0a26f19f4d66b42e0d8796688490  manufacturer      9\n",
      "1   060c0a26f19f4d66b42e0d8796688490      reseller     23\n",
      "2   068066e24f0c643eb1d089c7dd20cd73  manufacturer      6\n",
      "3   068066e24f0c643eb1d089c7dd20cd73      reseller     21\n",
      "4   0a0fb2b07d841f84fb6714e35c723075         other      1\n",
      "5   2695de1affa7750089c0455f8ce27021  manufacturer     16\n",
      "6   2695de1affa7750089c0455f8ce27021      reseller     42\n",
      "7   34d40cdaf94010a1d05b0d6212f9e909  manufacturer      1\n",
      "8   34d40cdaf94010a1d05b0d6212f9e909         other      1\n",
      "9   34d40cdaf94010a1d05b0d6212f9e909      reseller      8\n",
      "10  495d4e95a8cf8bbf8b432b612a2aa328  manufacturer     14\n",
      "11  495d4e95a8cf8bbf8b432b612a2aa328      reseller     47\n",
      "12  4b339f9567d060bcea4f5136b9f5949e  manufacturer      2\n",
      "13  4b339f9567d060bcea4f5136b9f5949e      reseller      6\n",
      "14  4ef15afb4b2723d8f3d81e51ec7afefe  manufacturer     43\n",
      "15  4ef15afb4b2723d8f3d81e51ec7afefe      reseller     90\n",
      "16  56bf83c4bb35763a51c2baab501b4c67  manufacturer      8\n",
      "17  56bf83c4bb35763a51c2baab501b4c67      reseller     16\n",
      "18  6565aa9ce3178a5caf6171827af3a9ba  manufacturer     19\n",
      "19  6565aa9ce3178a5caf6171827af3a9ba      reseller     54\n",
      "20  6aa3b86a83d784b05f0e37e26b20860d      reseller      1\n",
      "21  85fc447d336637ba1df43e793199fbc8  manufacturer     25\n",
      "22  85fc447d336637ba1df43e793199fbc8      reseller     39\n",
      "23  9749123c950bf8363ace42cb1c2d0815  manufacturer      2\n",
      "24  9749123c950bf8363ace42cb1c2d0815      reseller      5\n",
      "25  9ae085775a198122c5586fa830ff7f2b  manufacturer     15\n",
      "26  9ae085775a198122c5586fa830ff7f2b      reseller     36\n",
      "27  9d12ef1a7eca3ec58c545c678af7869c  manufacturer      2\n",
      "28  9d12ef1a7eca3ec58c545c678af7869c      reseller      4\n",
      "29  9e4d1098a3b0f5da39b0bc48f9876645  manufacturer     10\n",
      "30  9e4d1098a3b0f5da39b0bc48f9876645      reseller     14\n",
      "31  a8387c01a09e99ce014107505b92388c  manufacturer      4\n",
      "32  a8387c01a09e99ce014107505b92388c         other      1\n",
      "33  a8387c01a09e99ce014107505b92388c      reseller     21\n",
      "34  b90f87164b5f8c2cfa5c8572834dbe3f      reseller      1\n",
      "35  c638112b43f1d1b86dcabb0da720c901  manufacturer     12\n",
      "36  c638112b43f1d1b86dcabb0da720c901      reseller     22\n",
      "37  d3d1e91a157ea7f90548eef82f1955e3  manufacturer     19\n",
      "38  d3d1e91a157ea7f90548eef82f1955e3      reseller     61\n",
      "39  de63de0d10a6012430098db33c679b0b  manufacturer     12\n",
      "40  de63de0d10a6012430098db33c679b0b      reseller     40\n",
      "41  fbf4aef3f6915dc0c3c97d6812522f6a  manufacturer     23\n",
      "42  fbf4aef3f6915dc0c3c97d6812522f6a      reseller     36\n",
      "\n",
      "Para cada SR, a pessoa converteu o seguinte número de lead_behaviour_profile: \n",
      "                                sr_id lead_behaviour_profile  count\n",
      "0   060c0a26f19f4d66b42e0d8796688490                    cat     15\n",
      "1   060c0a26f19f4d66b42e0d8796688490                  eagle      2\n",
      "2   060c0a26f19f4d66b42e0d8796688490                  shark      1\n",
      "3   060c0a26f19f4d66b42e0d8796688490                   wolf      6\n",
      "4   068066e24f0c643eb1d089c7dd20cd73                    cat     11\n",
      "..                               ...                    ...    ...\n",
      "75  de63de0d10a6012430098db33c679b0b                   wolf      5\n",
      "76  fbf4aef3f6915dc0c3c97d6812522f6a                    cat     30\n",
      "77  fbf4aef3f6915dc0c3c97d6812522f6a                  eagle      9\n",
      "78  fbf4aef3f6915dc0c3c97d6812522f6a                  shark      2\n",
      "79  fbf4aef3f6915dc0c3c97d6812522f6a                   wolf      2\n",
      "\n",
      "[80 rows x 3 columns]\n",
      "\n",
      "Para cada SR, a pessoa converteu o seguinte número de lead_type: \n",
      "                                 sr_id        lead_type  count\n",
      "0    060c0a26f19f4d66b42e0d8796688490         industry      8\n",
      "1    060c0a26f19f4d66b42e0d8796688490          offline      1\n",
      "2    060c0a26f19f4d66b42e0d8796688490  online_beginner      3\n",
      "3    060c0a26f19f4d66b42e0d8796688490       online_big      2\n",
      "4    060c0a26f19f4d66b42e0d8796688490    online_medium     15\n",
      "..                                ...              ...    ...\n",
      "113  fbf4aef3f6915dc0c3c97d6812522f6a  online_beginner      1\n",
      "114  fbf4aef3f6915dc0c3c97d6812522f6a       online_big      8\n",
      "115  fbf4aef3f6915dc0c3c97d6812522f6a    online_medium     30\n",
      "116  fbf4aef3f6915dc0c3c97d6812522f6a     online_small      6\n",
      "117  fbf4aef3f6915dc0c3c97d6812522f6a       online_top      2\n",
      "\n",
      "[118 rows x 3 columns]\n"
     ]
    }
   ],
   "source": [
    "\n",
    "print(\"Qual foi a taxa de conversão total? \", tx_conversao_total, \"%\")\n",
    "print(f'\\nTaxa de conversão de cada origem: \\n{df_origem_conv_result}') \n",
    "print(f'\\nTaxa de conversão de cada pagina: \\n{df_pagina_conv_result}') \n",
    "print('\\nA receita média mensal declarada de cada Lead é: \\n', df_sr_receita)\n",
    "print(f'\\nPara cada SR, a pessoa converteu o seguinte número de business_type: \\n {sr_business_conv}')\n",
    "print(f'\\nPara cada SR, a pessoa converteu o seguinte número de lead_behaviour_profile: \\n {sr_lead_behaviour_conv}')\n",
    "print(f'\\nPara cada SR, a pessoa converteu o seguinte número de lead_type: \\n {sr_lead_type_conv}')"
   ]
  },
  {
   "cell_type": "markdown",
   "id": "78ce753d",
   "metadata": {},
   "source": [
    "Extra:\n",
    "\n",
    "Caso consiga resolver as questões acima com facilidade, aproveite a base \"irmã\" dessa para fazer outras explorações que você ache interessante!\n",
    "\n",
    "https://www.kaggle.com/datasets/olistbr/brazilian-ecommerce\n",
    "\n",
    "Lembre de separar novamente em 2 etapas: \n",
    "1. Processamento dos dados, para criar uma tabela \"analítica\".\n",
    "2. Análise exploratória dos dados."
   ]
  }
 ],
 "metadata": {
  "interpreter": {
   "hash": "085ab2045f1a1c0f08e99917c63d69dd8798af8e4933b6fa478956cde22bf777"
  },
  "kernelspec": {
   "display_name": "Python 3.10.0 64-bit ('3.10.0')",
   "language": "python",
   "name": "python3"
  },
  "language_info": {
   "codemirror_mode": {
    "name": "ipython",
    "version": 3
   },
   "file_extension": ".py",
   "mimetype": "text/x-python",
   "name": "python",
   "nbconvert_exporter": "python",
   "pygments_lexer": "ipython3",
   "version": "3.10.0"
  }
 },
 "nbformat": 4,
 "nbformat_minor": 5
}
